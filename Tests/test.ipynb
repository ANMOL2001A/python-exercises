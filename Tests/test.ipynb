{
 "cells": [
  {
   "cell_type": "markdown",
   "metadata": {},
   "source": [
    "# Question 6"
   ]
  },
  {
   "cell_type": "code",
   "execution_count": 1,
   "metadata": {},
   "outputs": [
    {
     "name": "stdout",
     "output_type": "stream",
     "text": [
      "70.0%\n"
     ]
    }
   ],
   "source": [
    "total_veg_person_likes_orange=3\n",
    "tatal_nonveg_person_likes_orange=7\n",
    "total_person_like_oranges=total_veg_person_likes_orange + tatal_nonveg_person_likes_orange\n",
    "percent_of_nonveg_orange_likers=(tatal_nonveg_person_likes_orange/total_person_like_oranges)*100\n",
    "print(f\"{percent_of_nonveg_orange_likers}%\")"
   ]
  },
  {
   "cell_type": "markdown",
   "metadata": {},
   "source": [
    "# Question 8"
   ]
  },
  {
   "cell_type": "code",
   "execution_count": null,
   "metadata": {},
   "outputs": [],
   "source": [
    "books_frequency = [1, 2, 3, 4]\n",
    "mode = books_frequency[0]\n",
    "x = [mode=x for x in books_frequency if x > mode]\n",
    "\n",
    "print(x)\n"
   ]
  },
  {
   "cell_type": "code",
   "execution_count": 2,
   "metadata": {},
   "outputs": [
    {
     "name": "stdout",
     "output_type": "stream",
     "text": [
      "mode of number of books:4\n"
     ]
    }
   ],
   "source": [
    "books_frequency = [1, 2, 3, 4]\n",
    "mode = books_frequency[0]\n",
    "for i in books_frequency:\n",
    "  if i > mode:\n",
    "    mode=i\n",
    "print(f\"mode of number of books:{mode}\")"
   ]
  },
  {
   "cell_type": "markdown",
   "metadata": {},
   "source": [
    "# Question 7"
   ]
  },
  {
   "cell_type": "code",
   "execution_count": 3,
   "metadata": {},
   "outputs": [
    {
     "name": "stdout",
     "output_type": "stream",
     "text": [
      "probability of random student is: 0.2727272727272727\n"
     ]
    }
   ],
   "source": [
    "number_of_total_students=11\n",
    "number_of_students_read_than_two_books=3\n",
    "#to find prob from a perticular slot \n",
    "probability_of_random_std=number_of_students_read_than_two_books/number_of_total_students\n",
    "print(f\"probability of random student is: {probability_of_random_std}\")"
   ]
  },
  {
   "cell_type": "markdown",
   "metadata": {},
   "source": [
    "# Question 5"
   ]
  },
  {
   "cell_type": "code",
   "execution_count": 4,
   "metadata": {},
   "outputs": [
    {
     "name": "stdout",
     "output_type": "stream",
     "text": [
      "0.2727272727272727\n"
     ]
    }
   ],
   "source": [
    "total_peesons_like_apple=10\n",
    "veg_people_likes_apple=4\n",
    "probability_of_random_guy=veg_people_likes_apple/total_peesons_like_apple\n",
    "print(probability_of_random_std)"
   ]
  }
 ],
 "metadata": {
  "kernelspec": {
   "display_name": "Python 3",
   "language": "python",
   "name": "python3"
  },
  "language_info": {
   "codemirror_mode": {
    "name": "ipython",
    "version": 3
   },
   "file_extension": ".py",
   "mimetype": "text/x-python",
   "name": "python",
   "nbconvert_exporter": "python",
   "pygments_lexer": "ipython3",
   "version": "3.10.12"
  }
 },
 "nbformat": 4,
 "nbformat_minor": 2
}
